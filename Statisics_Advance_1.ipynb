{
  "nbformat": 4,
  "nbformat_minor": 0,
  "metadata": {
    "colab": {
      "provenance": []
    },
    "kernelspec": {
      "name": "python3",
      "display_name": "Python 3"
    },
    "language_info": {
      "name": "python"
    }
  },
  "cells": [
    {
      "cell_type": "markdown",
      "source": [
        "#Theoretical Question"
      ],
      "metadata": {
        "id": "UJQ1xmy6VzZZ"
      }
    },
    {
      "cell_type": "markdown",
      "source": [
        "What is a random variable in probability theory?\n",
        "- A random variable in probability theory is a numerical outcome of a random phenomenon. It's a function that maps the possible outcomes of a random experiment to real numbers.\n",
        "\n",
        "What are the types of random variables?\n",
        "- There are two main types of random variables:\n",
        "\n",
        "   - Discrete Random Variable: A variable whose possible values are finite or countably infinite (e.g., number of heads in coin flips, number of cars passing a point).\n",
        "\n",
        "   - Continuous Random Variable: A variable whose possible values can take any value within a given range (e.g., height, weight, temperature).\n",
        "\n",
        "What is the difference between discrete and continuous distributions?\n",
        "- The core difference lies in the nature of the outcomes:\n",
        "\n",
        "    Discrete Distributions: Deal with discrete random variables. The probabilities are assigned to specific, distinct values.\n",
        "\n",
        "    Continuous Distributions: Deal with continuous random variables. Probabilities are assigned to ranges of values, and the probability of any single exact value is zero.\n",
        "\n",
        "What are probability distribution functions (PDF)?\n",
        "- A Probability Distribution Function (PDF), for continuous variables, describes the likelihood of the random variable taking on a given value within a continuous range. For discrete variables, it's called a Probability Mass Function (PMF) and gives the probability of each specific outcome.\n",
        "\n",
        "How do cumulative distribution functions (CDF) differ from probability distribution functions (PDF)?\n",
        "- CDF vs. PDF\n",
        "    \n",
        "    Probability Distribution Function (PDF) (or PMF for discrete): Gives the probability of a specific value (discrete) or the probability density at a specific point (continuous).\n",
        "\n",
        "    Cumulative Distribution Function (CDF): Gives the probability that a random variable will take a value less than or equal to a given value. It's the cumulative sum of probabilities up to that point.\n",
        "\n",
        "\n",
        "What is a discrete uniform distribution?\n",
        "- A discrete uniform distribution is a probability distribution where all possible outcomes are equally likely. For example, rolling a fair six-sided die, each face has a 1/6 probability.\n",
        "\n",
        "What are the key properties of a Bernoulli distribution?\n",
        "- The Bernoulli distribution models a single trial with two possible outcomes: success (with probability p) or failure (with probability 1−p). Key properties:\n",
        "\n",
        "Only two outcomes: 0 (failure) or 1 (success).\n",
        "Parameter: p (probability of success).\n",
        "Expected Value: E[X]=p.\n",
        "Variance: Var(X)=p(1−p).\n",
        "\n",
        "What is the binomial distribution, and how is it used in probability?\n",
        "- The binomial distribution describes the number of successes in a fixed number of independent Bernoulli trials. It's used when you have a set number of attempts, and each attempt has only two outcomes. For example, the number of heads in 10 coin flips.\n",
        "\n",
        "What is the Poisson distribution and where is it applied?\n",
        "- The Poisson distribution models the number of events occurring in a fixed interval of time or space, given a constant average rate of occurrence and that these events happen independently. It's applied in scenarios like counting the number of calls a call center receives in an hour, or the number of defects per square meter of fabric.\n",
        "\n",
        "What is a continuous uniform distribution?\n",
        "- A continuous uniform distribution assigns equal probability density to all values within a given interval. For example, a random number generator producing values between 0 and 1.\n",
        "\n",
        "What are the characteristics of a normal distribution?\n",
        "- The normal distribution (also known as the Gaussian distribution) is a symmetrical, bell-shaped probability distribution.\n",
        "\n",
        "- Key characteristics:\n",
        "\n",
        "    Symmetrical around its mean.\n",
        "    Mean, median, and mode are equal.\n",
        "    Tails extend to infinity but rarely touch the x-axis.\n",
        "    Defined by two parameters: mean (μ) and standard deviation (σ).\n",
        "    The Empirical Rule states that approximately 68% of data falls within 1 standard deviation, 95% within 2, and 99.7% within 3.\n",
        "\n",
        "What is the standard normal distribution, and why is it important?\n",
        "- The standard normal distribution is a special case of the normal distribution with a mean of 0 and a standard deviation of 1. It's important because any normal distribution can be transformed into a standard normal distribution using a Z-score, allowing for standardized comparisons and probability calculations.\n",
        "\n",
        "What is the Central Limit Theorem (CLT), and why is it critical in statistics?\n",
        "- The Central Limit Theorem (CLT) states that, given a sufficiently large sample size from any population with a finite mean and variance, the sampling distribution of the sample mean will be approximately normally distributed. It's critical in statistics because it allows us to make inferences about population parameters using sample data, even if the population distribution isn't normal.\n",
        "\n",
        "How does the Central Limit Theorem relate to the normal distribution?\n",
        "- The Central Limit Theorem establishes that the sampling distribution of the sample mean tends toward a normal distribution as the sample size increases, regardless of the original population's distribution. This means we can use normal distribution properties for hypothesis testing and confidence intervals even when dealing with non-normal data, as long as the sample is large enough.\n",
        "\n",
        "What is the application of Z statistics in hypothesis testing?\n",
        "- Z-statistics are used in hypothesis testing to determine how many standard deviations an observed sample mean (or proportion) is from the hypothesized population mean. They help decide whether to reject or fail to reject a null hypothesis by comparing the calculated Z-score to critical values from the standard normal distribution.\n",
        "\n",
        "How do you calculate a Z-score, and what does it represent?\n",
        "- A Z-score (or standard score) measures how many standard deviations an individual data point is from the mean of its distribution. It's calculated as:\n",
        "\n",
        "Z=(X−μ)/σ\n",
        "\n",
        "Where:\n",
        "\n",
        "X = individual data point\n",
        "μ = population mean\n",
        "σ = population standard deviation\n",
        "\n",
        "A Z-score represents the standardized position of a data point. A positive Z-score means the data point is above the mean, a negative Z-score means it's below the mean, and a Z-score of 0 means it's equal to the mean.\n",
        "\n",
        "What are point estimates and interval estimates in statistics?\n",
        "- Point Estimate: A single value used to estimate a population parameter (e.g., sample mean as an estimate of population mean).\n",
        "\n",
        "- Interval Estimate: A range of values used to estimate a population parameter (e.g., a confidence interval). It provides a measure of the precision and uncertainty of the estimate.\n",
        "\n",
        "What is the significance of confidence intervals in statistical analysis?\n",
        "- Confidence intervals provide a range within which the true population parameter is likely to lie, with a certain level of confidence. They quantify the uncertainty associated with a sample estimate and are crucial for making reliable inferences about populations.\n",
        "\n",
        "What is the relationship between a Z-score and a confidence interval?\n",
        "- Z-scores are integral to constructing confidence intervals. For a given confidence level (e.g., 95%), a corresponding Z-score (critical value) is used to define the boundaries of the interval around the point estimate. The Z-score tells us how many standard errors to extend from the sample mean to capture the true population mean with the desired confidence.\n",
        "\n",
        "How are Z-scores used to compare different distributions?\n",
        "- Z-scores allow for the comparison of data points from different distributions by standardizing them. By converting raw scores into Z-scores, you can see how many standard deviations each score is from its respective mean, making it possible to compare their relative positions, even if the original scales are different. For example, comparing a student's score in a math test to their score in a history test, where the tests might have different means and standard deviations.\n",
        "\n",
        "What are the assumptions for applying the Central Limit Theorem?\n",
        "- Key assumptions for applying the Central Limit Theorem:\n",
        "\n",
        "    Random Sampling: Samples must be randomly selected.\n",
        "    Independence: Observations within samples must be independent.\n",
        "    Sample Size: The sample size must be sufficiently large (generally n≥30).\n",
        "    Finite Variance: The population must have a finite mean and variance.\n",
        "\n",
        "What is the concept of expected value in a probability distribution?\n",
        "- The expected value (E[X]) of a random variable is the weighted average of all possible values the variable can take, with the weights being their respective probabilities. It represents the long-run average outcome if the experiment were repeated many times. It's a measure of the central tendency of a probability distribution.\n",
        "\n",
        "How does a probability distribution relate to the expected outcome of a random variable?\n",
        "- A probability distribution provides a complete picture of all possible outcomes of a random variable and their associated probabilities. The expected outcome (expected value) is a single, summary statistic derived from this distribution. It represents the theoretical average outcome of the random variable based on its probability distribution, essentially a long-term prediction of what to expect from the random process.\n"
      ],
      "metadata": {
        "id": "BPN8saYOV3a0"
      }
    },
    {
      "cell_type": "markdown",
      "source": [
        "#Practical Queston"
      ],
      "metadata": {
        "id": "eGyLM43zLrll"
      }
    },
    {
      "cell_type": "code",
      "source": [
        "import numpy as np\n",
        "import scipy.stats as stats\n",
        "import matplotlib.pyplot as plt\n",
        "\n",
        "# 1. Generate a random variable and display its value\n",
        "rv = np.random.random()  # uniform on [0,1)\n",
        "print(\"Random variable:\", rv)"
      ],
      "metadata": {
        "id": "ytrvZKGzLzv3"
      },
      "execution_count": null,
      "outputs": []
    },
    {
      "cell_type": "code",
      "source": [
        "# 2. Discrete uniform distribution PMF and plot\n",
        "from scipy.stats import randint\n",
        "low, high = 1, 7  # like a die\n",
        "du = randint(low, high)\n",
        "x = np.arange(low, high)\n",
        "pmf = du.pmf(x)\n",
        "plt.bar(x, pmf, alpha=0.6)\n",
        "plt.title(\"Discrete Uniform PMF\")\n",
        "plt.xlabel(\"x\")\n",
        "plt.ylabel(\"P(X=x)\")\n",
        "plt.show()"
      ],
      "metadata": {
        "id": "GPeUeGCmjrYV"
      },
      "execution_count": null,
      "outputs": []
    },
    {
      "cell_type": "code",
      "source": [
        "# 3. Bernoulli PDF (PMF) function\n",
        "def bernoulli_pmf(p):\n",
        "    def pmf(k):\n",
        "        return stats.bernoulli.pmf(k, p)\n",
        "    return pmf\n",
        "\n",
        "p = 0.3\n",
        "b_pmf = bernoulli_pmf(p)\n",
        "print(f\"Bernoulli PMF p={p}: P(0)={b_pmf(0):.2f}, P(1)={b_pmf(1):.2f}\")"
      ],
      "metadata": {
        "id": "tqNXb2ErjrTb"
      },
      "execution_count": null,
      "outputs": []
    },
    {
      "cell_type": "code",
      "source": [
        "# 4. Simulate a binomial (n=10, p=0.5), histogram\n",
        "n, p = 10, 0.5\n",
        "data_bin = np.random.binomial(n, p, size=10000)\n",
        "plt.hist(data_bin, bins=range(n+2), align='left', rwidth=0.8, alpha=0.6)\n",
        "plt.title(\"Binomial (n=10, p=0.5)\")\n",
        "plt.xlabel(\"Number of successes\")\n",
        "plt.ylabel(\"Count\")\n",
        "plt.show()"
      ],
      "metadata": {
        "id": "OOv0IJgGjrOa"
      },
      "execution_count": null,
      "outputs": []
    },
    {
      "cell_type": "code",
      "source": [
        "# 5. Poisson distribution and visualization\n",
        "mu = 3\n",
        "data_pois = stats.poisson.rvs(mu, size=5000)\n",
        "plt.hist(data_pois, bins=range(0, max(data_pois)+2), align='left', alpha=0.6)\n",
        "plt.title(\"Poisson (μ=3)\")\n",
        "plt.xlabel(\"k\")\n",
        "plt.ylabel(\"Count\")\n",
        "plt.show()\n",
        "\n",
        "# PMF visualization\n",
        "kmax = np.arange(0, mu+10)\n",
        "pmf_pois = stats.poisson.pmf(kmax, mu)\n",
        "plt.scatter(kmax, pmf_pois, color='red')\n",
        "plt.vlines(kmax, 0, pmf_pois, alpha=0.6)\n",
        "plt.title(\"Poisson PMF\")\n",
        "plt.xlabel(\"k\")\n",
        "plt.ylabel(\"P(X=k)\")\n",
        "plt.show()"
      ],
      "metadata": {
        "id": "s0zfTrxSjrLU"
      },
      "execution_count": null,
      "outputs": []
    },
    {
      "cell_type": "code",
      "source": [
        "# 6. CDF of discrete uniform and plot\n",
        "cdf = du.cdf(x)\n",
        "plt.step(x, cdf, where='mid')\n",
        "plt.title(\"Discrete Uniform CDF\")\n",
        "plt.xlabel(\"x\")\n",
        "plt.ylabel(\"F(x)\")\n",
        "plt.show()"
      ],
      "metadata": {
        "id": "K33kwU8IjrIZ"
      },
      "execution_count": null,
      "outputs": []
    },
    {
      "cell_type": "code",
      "source": [
        "# 7. Continuous uniform via NumPy and plot PDF histogram\n",
        "cu = np.random.uniform(0, 5, size=100000)\n",
        "plt.hist(cu, bins=50, density=True, alpha=0.6)\n",
        "plt.title(\"Continuous Uniform [0,5]\")\n",
        "plt.xlabel(\"x\")\n",
        "plt.ylabel(\"Density\")\n",
        "plt.show()"
      ],
      "metadata": {
        "id": "04aLiThpjrE-"
      },
      "execution_count": null,
      "outputs": []
    },
    {
      "cell_type": "code",
      "source": [
        "# 8. Simulate normal data and histogram\n",
        "norm_data = np.random.normal(loc=0, scale=1, size=10000)\n",
        "plt.hist(norm_data, bins=50, density=True, alpha=0.6)\n",
        "x = np.linspace(-4, 4, 200)\n",
        "plt.plot(x, stats.norm.pdf(x, 0, 1), 'r--')\n",
        "plt.title(\"Normal Distribution Sample + PDF\")\n",
        "plt.show()"
      ],
      "metadata": {
        "id": "hPGWPG1_jrBC"
      },
      "execution_count": null,
      "outputs": []
    },
    {
      "cell_type": "code",
      "source": [
        "# 9. Z-score function + plot\n",
        "def z_scores(arr):\n",
        "    mu, sigma = np.mean(arr), np.std(arr, ddof=0)\n",
        "    return (arr - mu) / sigma\n",
        "\n",
        "zs = z_scores(norm_data)\n",
        "plt.hist(zs, bins=50, density=True, alpha=0.6)\n",
        "plt.title(\"Z-Scores Histogram\")\n",
        "plt.xlabel(\"Z\")\n",
        "plt.ylabel(\"Density\")\n",
        "plt.show()"
      ],
      "metadata": {
        "id": "A9uckNiLjqzn"
      },
      "execution_count": null,
      "outputs": []
    },
    {
      "cell_type": "code",
      "source": [
        "# 10. CLT demonstration with non-normal (exponential)\n",
        "def simulate_clt(dist, args, sample_size=30, trials=5000):\n",
        "    means = [np.mean(dist(*args, size=sample_size)) for _ in range(trials)]\n",
        "    plt.hist(means, bins=30, density=True, alpha=0.6)\n",
        "    mu, sigma = np.mean(means), np.std(means)\n",
        "    x = np.linspace(mu-4*sigma, mu+4*sigma, 200)\n",
        "    plt.plot(x, stats.norm.pdf(x, mu, sigma), 'r--')\n",
        "    plt.title(f\"CLT: {dist.__name__}, n={sample_size}\")\n",
        "    plt.show()\n",
        "\n",
        "simulate_clt(np.random.exponential, (1,), sample_size=50)"
      ],
      "metadata": {
        "id": "iiIoj4XfjqkA"
      },
      "execution_count": null,
      "outputs": []
    },
    {
      "cell_type": "code",
      "source": [
        "# 11. Simulate multiple samples from a normal distribution and verify the Central Limit Theorem\n",
        "def simulate_clt_normal(mu=5, sigma=2, sample_size=30, trials=5000):\n",
        "    samples = [np.mean(np.random.normal(mu, sigma, sample_size)) for _ in range(trials)]\n",
        "    plt.hist(samples, bins=30, density=True, alpha=0.6)\n",
        "    x = np.linspace(mu-4*sigma/np.sqrt(sample_size), mu+4*sigma/np.sqrt(sample_size), 200)\n",
        "    plt.plot(x, stats.norm.pdf(x, mu, sigma/np.sqrt(sample_size)), 'r--')\n",
        "    plt.title(\"CLT (normal parent) – distribution of sample means\")\n",
        "    plt.show()\n",
        "\n",
        "simulate_clt_normal()"
      ],
      "metadata": {
        "id": "dX4i1JoLjqLd"
      },
      "execution_count": null,
      "outputs": []
    },
    {
      "cell_type": "code",
      "source": [
        "# 12. Function to calculate & plot standard normal distribution (mean=0, std=1)\n",
        "def plot_standard_normal():\n",
        "    x = np.linspace(-4, 4, 400)\n",
        "    y = stats.norm.pdf(x, 0, 1)\n",
        "    plt.plot(x, y)\n",
        "    plt.title(\"Standard Normal PDF (μ=0, σ=1)\")\n",
        "    plt.show()\n",
        "\n",
        "plot_standard_normal()"
      ],
      "metadata": {
        "id": "AbzCMHbwlUtn"
      },
      "execution_count": null,
      "outputs": []
    },
    {
      "cell_type": "code",
      "source": [
        "# 13. Generate random variables & calculate binomial probabilities\n",
        "n, p = 10, 0.5\n",
        "k = np.arange(0, n+1)\n",
        "pmf_binom = stats.binom.pmf(k, n, p)\n",
        "print(\"Binomial PMF (n=10, p=0.5):\")\n",
        "for ki, pki in zip(k, pmf_binom):\n",
        "    print(f\"P(X={ki}) = {pki:.4f}\")"
      ],
      "metadata": {
        "id": "kgiQXaOElUou"
      },
      "execution_count": null,
      "outputs": []
    },
    {
      "cell_type": "code",
      "source": [
        "# 14. Z‑score calculation and comparison to standard normal\n",
        "def z_score(x, data):\n",
        "    return (x - np.mean(data)) / np.std(data, ddof=0)\n",
        "\n",
        "data = np.random.normal(0, 1, 1000)\n",
        "print(\"Z-score of 1.5 in sample:\", z_score(1.5, data))"
      ],
      "metadata": {
        "id": "aDBvbInRlUkn"
      },
      "execution_count": null,
      "outputs": []
    },
    {
      "cell_type": "code",
      "source": [
        "# 15. Hypothesis testing using Z-statistics\n",
        "def z_test(sample, mu0=0):\n",
        "    xbar, sigma, n = np.mean(sample), np.std(sample, ddof=0), len(sample)\n",
        "    z = (xbar - mu0) / (sigma/np.sqrt(n))\n",
        "    pval = 2 * (1 - stats.norm.cdf(abs(z)))\n",
        "    return z, pval\n",
        "sample = np.random.normal(5, 1, size=100)\n",
        "print(\"Z-test (H₀: μ=5):\", z_test(sample, mu0=5))"
      ],
      "metadata": {
        "id": "G-L9_tMdlUgY"
      },
      "execution_count": null,
      "outputs": []
    },
    {
      "cell_type": "code",
      "source": [
        "# 16. Create a confidence interval for a dataset\n",
        "def conf_int(sample, alpha=0.05):\n",
        "    xbar, s, n = np.mean(sample), np.std(sample, ddof=1), len(sample)\n",
        "    margin = stats.norm.ppf(1 - alpha/2) * (s / np.sqrt(n))\n",
        "    return xbar - margin, xbar + margin\n",
        "\n",
        "sample2 = np.random.normal(0, 1, 100)\n",
        "print(\"95% CI for sample2 mean:\", conf_int(sample2))"
      ],
      "metadata": {
        "id": "oAkfJmz5lUcs"
      },
      "execution_count": null,
      "outputs": []
    },
    {
      "cell_type": "code",
      "source": [
        "# 17. Generate data from normal distribution & interpret its CI\n",
        "data_norm = np.random.normal(50, 5, 200)\n",
        "ci2 = conf_int(data_norm)\n",
        "print(f\"Sample mean={np.mean(data_norm):.2f}, 95% CI={ci2}\")"
      ],
      "metadata": {
        "id": "ZN8brFf8lUXk"
      },
      "execution_count": null,
      "outputs": []
    },
    {
      "cell_type": "code",
      "source": [
        "# 18. PDF of a normal distribution (general μ, σ)\n",
        "def plot_pdf(mu=10, sigma=2):\n",
        "    x = np.linspace(mu - 4*sigma, mu + 4*sigma, 400)\n",
        "    plt.plot(x, stats.norm.pdf(x, mu, sigma))\n",
        "    plt.title(f\"Normal PDF (μ={mu}, σ={sigma})\")\n",
        "    plt.show()\n",
        "\n",
        "plot_pdf(10, 2)"
      ],
      "metadata": {
        "id": "-f6mtkTdlUSr"
      },
      "execution_count": null,
      "outputs": []
    },
    {
      "cell_type": "code",
      "source": [
        "# 19. CDF of a Poisson distribution\n",
        "pois = stats.poisson(mu=3)\n",
        "print(\"Poisson CDF P(X ≤ k):\")\n",
        "for k in range(10):\n",
        "    print(f\"k={k}: {pois.cdf(k):.4f}\")"
      ],
      "metadata": {
        "id": "3JWj29CXlUHL"
      },
      "execution_count": null,
      "outputs": []
    },
    {
      "cell_type": "code",
      "source": [
        "# 20. Simulate a continuous uniform distribution & compute expected value\n",
        "uni = np.random.uniform(0, 5, 100000)\n",
        "print(\"Continuous uniform [0,5] mean ≈\", np.mean(uni))"
      ],
      "metadata": {
        "id": "WsZgtSZKlT4Y"
      },
      "execution_count": null,
      "outputs": []
    },
    {
      "cell_type": "code",
      "source": [
        "# 21. Compare standard deviations of two datasets & visualize\n",
        "a = np.random.normal(0, 1, 500)\n",
        "b = np.random.normal(0, 2, 500)\n",
        "print(\"STD(a) ≈\", np.std(a, ddof=1), \"STD(b) ≈\", np.std(b, ddof=1))\n",
        "plt.boxplot([a, b], labels=['a','b'])\n",
        "plt.title(\"Std dev comparison\")\n",
        "plt.show()"
      ],
      "metadata": {
        "id": "sNbwHejblTnj"
      },
      "execution_count": null,
      "outputs": []
    },
    {
      "cell_type": "code",
      "source": [
        "# 22. Range and interquartile range (IQR) of normal dataset\n",
        "d = np.random.normal(5, 2, 1000)\n",
        "print(\"Range:\", np.ptp(d), \"IQR:\", np.percentile(d,75) - np.percentile(d,25))"
      ],
      "metadata": {
        "id": "Ic2TFoRBmkjm"
      },
      "execution_count": null,
      "outputs": []
    },
    {
      "cell_type": "code",
      "source": [
        "# 23. Z‑score normalization & visualization\n",
        "normed = (d - np.mean(d)) / np.std(d, ddof=0)\n",
        "plt.hist([d, normed], bins=30, label=['Original','Normalized'], alpha=0.6)\n",
        "plt.legend()\n",
        "plt.title(\"Before vs after Z‑score normalization\")\n",
        "plt.show()"
      ],
      "metadata": {
        "id": "vjmrQ28emkRV"
      },
      "execution_count": null,
      "outputs": []
    },
    {
      "cell_type": "code",
      "source": [
        "# 14. Skewness and kurtosis of dataset\n",
        "sk = stats.skew(d, bias=False)\n",
        "ku = stats.kurtosis(d, fisher=True, bias=False)\n",
        "print(\"Skewness:\", sk, \"Excess Kurtosis:\", ku)"
      ],
      "metadata": {
        "id": "met6CqKamkBC"
      },
      "execution_count": null,
      "outputs": []
    }
  ]
}